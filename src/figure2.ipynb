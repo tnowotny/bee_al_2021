{
 "cells": [
  {
   "cell_type": "code",
   "execution_count": 1,
   "id": "extra-medline",
   "metadata": {},
   "outputs": [],
   "source": [
    "import numpy as np\n",
    "import matplotlib.pyplot as plt\n",
    "import sys\n",
    "from helper import *\n"
   ]
  },
  {
   "cell_type": "code",
   "execution_count": 2,
   "id": "acting-activity",
   "metadata": {},
   "outputs": [],
   "source": [
    "label=\"2021-07-22-runs/run_hom\"\n",
    "gid=\"0.0\"\n",
    "pop= \"PNs\"\n",
    "N= 800\n",
    "spike_t= np.load(label+\"_\"+gid+\"_\"+pop+\"_spike_t.npy\")\n",
    "spike_ID= np.load(label+\"_\"+gid+\"_\"+pop+\"_spike_ID.npy\")\n",
    "t_total= spike_t[-1]"
   ]
  },
  {
   "cell_type": "code",
   "execution_count": 47,
   "id": "racial-personality",
   "metadata": {},
   "outputs": [],
   "source": [
    "mlabel=\"2021-07-22-runs/run_hom_0.0_odors_0_1\"\n",
    "mspike_t= np.load(mlabel+\"_\"+pop+\"_spike_t.npy\")\n",
    "mspike_ID= np.load(mlabel+\"_\"+pop+\"_spike_ID.npy\")\n",
    "mt_total= mspike_t[-1]"
   ]
  },
  {
   "cell_type": "code",
   "execution_count": 48,
   "id": "limiting-circus",
   "metadata": {},
   "outputs": [
    {
     "name": "stdout",
     "output_type": "stream",
     "text": [
      "[ 83216. 144112. 254221. 340900. 404591. 257657. 317778. 412115. 440051.\n",
      " 431569. 731784. 787936. 866209. 870700. 803377.]\n"
     ]
    }
   ],
   "source": [
    "trial_time= 12000\n",
    "ORN_cnts= np.load(\"2021-07-22-runs/run_hom_ORNs_spike_counts.npy\")\n",
    "avgNo= int(trial_time/2000)  # 2000 is the time for each recording window\n",
    "d= np.zeros(ORN_cnts.shape[0]//avgNo)\n",
    "for i in range(ORN_cnts.shape[0]//avgNo):\n",
    "    d[i]= np.sum(ORN_cnts[i*avgNo:(i+1)*avgNo])\n",
    "print(d)"
   ]
  },
  {
   "cell_type": "code",
   "execution_count": 43,
   "id": "fourth-secondary",
   "metadata": {},
   "outputs": [],
   "source": [
    "def force_aspect(ax,aspect):\n",
    "    im = ax.get_images()\n",
    "    extent =  im[0].get_extent()\n",
    "    ax.set_aspect(abs((extent[1]-extent[0])/(extent[3]-extent[2]))/aspect)\n",
    "\n"
   ]
  },
  {
   "cell_type": "code",
   "execution_count": 44,
   "id": "thorough-nomination",
   "metadata": {},
   "outputs": [],
   "source": [
    "def glo_avg(sdf: np.ndarray, n):\n",
    "    nglo= sdf.shape[1]//n\n",
    "    gsdf= np.zeros((sdf.shape[0],nglo))\n",
    "    for i in range(nglo):\n",
    "        gsdf[:,i]= np.mean(sdf[:,n*i:n*(i+1)],axis=1)\n",
    "    return gsdf"
   ]
  },
  {
   "cell_type": "code",
   "execution_count": 60,
   "id": "french-necklace",
   "metadata": {},
   "outputs": [
    {
     "data": {
      "image/png": "[encoded data removed]",
      "text/plain": [
       "<Figure size 432x288 with 1 Axes>"
      ]
     },
     "metadata": {
      "needs_background": "light"
     },
     "output_type": "display_data"
    }
   ],
   "source": [
    "plt.rc('font', size=14) #controls default text size\n",
    "plt.figure()\n",
    "plt.bar(np.hstack([np.arange(0,5),np.arange(6,11),np.arange(12,17)]),d)\n",
    "ax=plt.gca()\n",
    "ax.set_xticks([])\n",
    "ax.set_yticks(np.arange(0,1.1e6,2e5))\n",
    "ax.set_yticklabels(np.arange(0,11,2))\n",
    "ax.set_ylim([0,1e6])\n",
    "plt.savefig(\"ORN_response.png\", dpi=300)"
   ]
  },
  {
   "cell_type": "code",
   "execution_count": 12,
   "id": "brave-facility",
   "metadata": {},
   "outputs": [
    {
     "name": "stdout",
     "output_type": "stream",
     "text": [
      "100\n"
     ]
    }
   ],
   "source": [
    "trial_time= 12000\n",
    "cnum= 25\n",
    "batch_t= cnum*trial_time\n",
    "wds= int(t_total//batch_t) # corresponds to number of odours presented / number of batches\n",
    "print(wds)\n",
    "li= 0\n",
    "sigma_sdf= 100\n",
    "dt_sdf= 1\n",
    "lsdfs= []\n",
    "gsdfs= []\n",
    "# Let's look at the two odors \"IAA\" and \"Geosmin\"\n",
    "ichoice= [ 0, 1 ]\n",
    "jchoice= [[ 16, 24 ], [ 4, 16 ]]\n",
    "for k in range(2):\n",
    "    i= ichoice[k]\n",
    "    # let's look at two example concentrations each\n",
    "    for j in jchoice[k]:\n",
    "        left= i*batch_t+j*trial_time\n",
    "        right= left+trial_time\n",
    "        while li < len(spike_t) and spike_t[li] < left:\n",
    "            li+= 1\n",
    "        ri= li\n",
    "        while ri < len(spike_t) and spike_t[ri] < right:\n",
    "            ri+= 1\n",
    "        lsdfs.append(make_sdf(spike_t[li:ri], spike_ID[li:ri], np.arange(0,N), left-3*sigma_sdf, right+3*sigma_sdf, dt_sdf, sigma_sdf))\n",
    "        gsdfs.append(glo_avg(lsdfs[-1],5))"
   ]
  },
  {
   "cell_type": "code",
   "execution_count": 13,
   "id": "changed-registration",
   "metadata": {},
   "outputs": [
    {
     "name": "stdout",
     "output_type": "stream",
     "text": [
      "[ 25 143]\n"
     ]
    }
   ],
   "source": [
    "meansdf= np.zeros((2,gsdfs[0].shape[1]))\n",
    "for i in range(2):\n",
    "    for k in range(2):\n",
    "        meansdf[i,:]+= np.mean(gsdfs[i*2+k],axis=0)\n",
    "mxid= np.argmax(meansdf, axis= 1)  # this is the strongest glomerulus over all 2 concentrations\n",
    "print(mxid)"
   ]
  },
  {
   "cell_type": "code",
   "execution_count": 22,
   "id": "twenty-coast",
   "metadata": {},
   "outputs": [
    {
     "name": "stdout",
     "output_type": "stream",
     "text": [
      "(13200, 160)\n"
     ]
    }
   ],
   "source": [
    "batch_t= cnum*trial_time\n",
    "wds= int(t_total//batch_t) # corresponds to number of odours presented / number of batches\n",
    "li= 0\n",
    "sigma_sdf= 100\n",
    "dt_sdf= 1\n",
    "mlsdfs= []\n",
    "mgsdfs= []\n",
    "# Let's look at two odors\n",
    "i= 24\n",
    "# let's look at two example concentrations for geosmin\n",
    "for j in [ 4, 16 ]:\n",
    "    left= i*batch_t+j*trial_time\n",
    "    right= left+trial_time\n",
    "    while li < len(mspike_t) and mspike_t[li] < left:\n",
    "        li+= 1\n",
    "    ri= li\n",
    "    while ri < len(mspike_t) and mspike_t[ri] < right:\n",
    "        ri+= 1\n",
    "    mlsdfs.append(make_sdf(mspike_t[li:ri], mspike_ID[li:ri], np.arange(0,N), left-3*sigma_sdf, right+3*sigma_sdf, dt_sdf, sigma_sdf))\n",
    "    mgsdfs.append(glo_avg(mlsdfs[-1],5))\n",
    "print(mgsdfs[0].shape)"
   ]
  },
  {
   "cell_type": "code",
   "execution_count": 61,
   "id": "electoral-tribune",
   "metadata": {},
   "outputs": [
    {
     "name": "stdout",
     "output_type": "stream",
     "text": [
      "(6,)\n"
     ]
    },
    {
     "data": {
      "image/png": "[encoded data removed]",
      "text/plain": [
       "<Figure size 432x288 with 6 Axes>"
      ]
     },
     "metadata": {
      "needs_background": "light"
     },
     "output_type": "display_data"
    }
   ],
   "source": [
    "plt.rc('font', size=6) #controls default text size\n",
    "mn= [-5, -40]\n",
    "mx= [20, 200]\n",
    "fig, ax= plt.subplots(1,6)\n",
    "print(ax.shape)\n",
    "ts= np.transpose(gsdfs[2][2900:7000,:])\n",
    "ax[0].imshow(ts, vmin=mn[0], vmax=mx[0], cmap=\"hot\")\n",
    "force_aspect(ax[0],0.4)\n",
    "ts= np.transpose(gsdfs[3][2900:7000,:])\n",
    "ax[1].imshow(ts, vmin=mn[0], vmax=mx[0], cmap=\"hot\")\n",
    "force_aspect(ax[1],0.4)\n",
    "ax[1].set_yticklabels([])\n",
    "ts= np.transpose(gsdfs[1][2900:7000,:])\n",
    "ax[2].set_axis_off()\n",
    "ax[3].imshow(ts, vmin=mn[1],vmax=mx[1], cmap=\"hot\")\n",
    "force_aspect(ax[3],0.4)\n",
    "ax[3].set_yticklabels([])\n",
    "ts= np.transpose(mgsdfs[0][2900:7000,:])\n",
    "ax[4].imshow(ts, vmin=mn[1], vmax=mx[1], cmap=\"hot\")\n",
    "force_aspect(ax[4],0.4)\n",
    "ax[4].set_yticklabels([])\n",
    "ts= np.transpose(mgsdfs[1][2900:7000,:])\n",
    "ax[5].imshow(ts, vmin=mn[1], vmax=mx[1], cmap=\"hot\",interpolation=\"None\")\n",
    "force_aspect(ax[5],0.4)\n",
    "ax[5].set_yticklabels([])\n",
    "plt.savefig(\"response_ex.png\",dpi=300)"
   ]
  },
  {
   "cell_type": "code",
   "execution_count": 35,
   "id": "about-daniel",
   "metadata": {},
   "outputs": [
    {
     "data": {
      "image/png": "[encoded data removed]",
      "text/plain": [
       "<Figure size 432x288 with 1 Axes>"
      ]
     },
     "metadata": {
      "needs_background": "light"
     },
     "output_type": "display_data"
    },
    {
     "data": {
      "image/png": "[encoded data removed]",
      "text/plain": [
       "<Figure size 432x288 with 1 Axes>"
      ]
     },
     "metadata": {
      "needs_background": "light"
     },
     "output_type": "display_data"
    }
   ],
   "source": [
    "plt.rc('font', size=10) #controls default text size\n",
    "for i in range(2):\n",
    "    plt.figure()\n",
    "    ax= plt.gca()\n",
    "    ax.imshow(np.reshape(np.arange(0,100),(-1,1)),cmap='hot')\n",
    "    if i==0: \n",
    "        yticks= np.arange(0,mx[0]+1,5)\n",
    "    else:\n",
    "        yticks= np.arange(0,mx[1]+1,50)\n",
    "    ytick_pos= (yticks-mn[i])/(mx[i]-mn[i])*100\n",
    "    ax.invert_yaxis()\n",
    "    ax.yaxis.tick_right()\n",
    "    ax.set_xticks([])\n",
    "    ax.set_yticks(ytick_pos)\n",
    "    ax.set_yticklabels(yticks)\n",
    "    force_aspect(ax,0.05)\n",
    "    plt.savefig(\"colorbar\"+str(i)+\".png\",dpi=300)"
   ]
  },
  {
   "cell_type": "code",
   "execution_count": null,
   "id": "moderate-brass",
   "metadata": {},
   "outputs": [],
   "source": []
  },
  {
   "cell_type": "code",
   "execution_count": null,
   "id": "coastal-adolescent",
   "metadata": {},
   "outputs": [],
   "source": []
  }
 ],
 "metadata": {
  "kernelspec": {
   "display_name": "Python 3 (ipykernel)",
   "language": "python",
   "name": "python3"
  },
  "language_info": {
   "codemirror_mode": {
    "name": "ipython",
    "version": 3
   },
   "file_extension": ".py",
   "mimetype": "text/x-python",
   "name": "python",
   "nbconvert_exporter": "python",
   "pygments_lexer": "ipython3",
   "version": "3.9.8"
  }
 },
 "nbformat": 4,
 "nbformat_minor": 5
}
