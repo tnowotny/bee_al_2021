{
 "cells": [
  {
   "cell_type": "code",
   "execution_count": 1,
   "id": "extra-medline",
   "metadata": {},
   "outputs": [],
   "source": [
    "import numpy as np\n",
    "import matplotlib.pyplot as plt\n",
    "import sys\n",
    "from helper import *\n"
   ]
  },
  {
   "cell_type": "code",
   "execution_count": 2,
   "id": "acting-activity",
   "metadata": {},
   "outputs": [],
   "source": [
    "label=\"2021-07-08-runs/run_hom\"\n",
    "gid=\"0.0\"\n",
    "pop= \"PNs\"\n",
    "N= 800\n",
    "spike_t= np.load(label+\"_\"+gid+\"_\"+pop+\"_spike_t.npy\")\n",
    "spike_ID= np.load(label+\"_\"+gid+\"_\"+pop+\"_spike_ID.npy\")\n",
    "t_total= spike_t[-1]"
   ]
  },
  {
   "cell_type": "code",
   "execution_count": 3,
   "id": "racial-personality",
   "metadata": {},
   "outputs": [],
   "source": [
    "mlabel=\"2021-07-08-runs/run_hom_0.0_odors_5_99\"\n",
    "mspike_t= np.load(mlabel+\"_\"+pop+\"_spike_t.npy\")\n",
    "mspike_ID= np.load(mlabel+\"_\"+pop+\"_spike_ID.npy\")\n",
    "mt_total= mspike_t[-1]"
   ]
  },
  {
   "cell_type": "code",
   "execution_count": 4,
   "id": "fourth-secondary",
   "metadata": {},
   "outputs": [],
   "source": [
    "def force_aspect(ax,aspect):\n",
    "    im = ax.get_images()\n",
    "    extent =  im[0].get_extent()\n",
    "    ax.set_aspect(abs((extent[1]-extent[0])/(extent[3]-extent[2]))/aspect)\n",
    "\n"
   ]
  },
  {
   "cell_type": "code",
   "execution_count": 5,
   "id": "thorough-nomination",
   "metadata": {},
   "outputs": [],
   "source": [
    "def glo_avg(sdf: np.ndarray, n):\n",
    "    nglo= sdf.shape[1]//n\n",
    "    gsdf= np.zeros((sdf.shape[0],nglo))\n",
    "    for i in range(nglo):\n",
    "        gsdf[:,i]= np.mean(sdf[:,n*i:n*(i+1)],axis=1)\n",
    "    return gsdf"
   ]
  },
  {
   "cell_type": "code",
   "execution_count": 6,
   "id": "brave-facility",
   "metadata": {},
   "outputs": [],
   "source": [
    "sample_t= 6000\n",
    "cnum= 24\n",
    "batch_t= cnum*sample_t\n",
    "wds= int(t_total//batch_t) # corresponds to number of odours presented / number of batches\n",
    "li= 0\n",
    "sigma_sdf= 100\n",
    "dt_sdf= 1\n",
    "lsdfs= []\n",
    "gsdfs= []\n",
    "# Let's look at two odors\n",
    "ichoice= [ 5, 99 ]\n",
    "jchoice= [[ 12, 23 ], [ 4, 16 ]]\n",
    "for k in range(2):\n",
    "    i= ichoice[k]\n",
    "    # let's look at three example concentrations\n",
    "    for j in jchoice[k]:\n",
    "        left= i*batch_t+j*sample_t\n",
    "        right= left+sample_t\n",
    "        while li < len(spike_t) and spike_t[li] < left:\n",
    "            li+= 1\n",
    "        ri= li\n",
    "        while ri < len(spike_t) and spike_t[ri] < right:\n",
    "            ri+= 1\n",
    "        lsdfs.append(make_sdf(spike_t[li:ri], spike_ID[li:ri], np.arange(0,N), left-3*sigma_sdf, right+3*sigma_sdf, dt_sdf, sigma_sdf))\n",
    "        gsdfs.append(glo_avg(lsdfs[-1],5))"
   ]
  },
  {
   "cell_type": "code",
   "execution_count": 7,
   "id": "changed-registration",
   "metadata": {},
   "outputs": [
    {
     "name": "stdout",
     "output_type": "stream",
     "text": [
      "[135 154]\n"
     ]
    }
   ],
   "source": [
    "meansdf= np.zeros((2,gsdfs[0].shape[1]))\n",
    "for i in range(2):\n",
    "    for k in range(2):\n",
    "        meansdf[i,:]+= np.mean(gsdfs[i*2+k],axis=0)\n",
    "mxid= np.argmax(meansdf, axis= 1)  # this is the strongest glomerulus over all 2 concentrations\n",
    "print(mxid)"
   ]
  },
  {
   "cell_type": "code",
   "execution_count": 8,
   "id": "twenty-coast",
   "metadata": {},
   "outputs": [
    {
     "name": "stdout",
     "output_type": "stream",
     "text": [
      "(7200, 160)\n"
     ]
    }
   ],
   "source": [
    "batch_t= cnum*sample_t\n",
    "wds= int(t_total//batch_t) # corresponds to number of odours presented / number of batches\n",
    "li= 0\n",
    "sigma_sdf= 100\n",
    "dt_sdf= 1\n",
    "mlsdfs= []\n",
    "mgsdfs= []\n",
    "# Let's look at two odors\n",
    "i= 23\n",
    "# let's look at two example concentrations for 99\n",
    "for j in [ 4, 16 ]:\n",
    "    left= i*batch_t+j*sample_t\n",
    "    right= left+sample_t\n",
    "    while li < len(mspike_t) and mspike_t[li] < left:\n",
    "        li+= 1\n",
    "    ri= li\n",
    "    while ri < len(mspike_t) and mspike_t[ri] < right:\n",
    "        ri+= 1\n",
    "    mlsdfs.append(make_sdf(mspike_t[li:ri], mspike_ID[li:ri], np.arange(0,N), left-3*sigma_sdf, right+3*sigma_sdf, dt_sdf, sigma_sdf))\n",
    "    mgsdfs.append(glo_avg(mlsdfs[-1],5))\n",
    "print(mgsdfs[0].shape)"
   ]
  },
  {
   "cell_type": "code",
   "execution_count": 9,
   "id": "electoral-tribune",
   "metadata": {},
   "outputs": [
    {
     "name": "stdout",
     "output_type": "stream",
     "text": [
      "(5,)\n"
     ]
    },
    {
     "data": {
      "image/png": "[encoded data removed]",
      "text/plain": [
       "<Figure size 432x288 with 5 Axes>"
      ]
     },
     "metadata": {
      "needs_background": "light"
     },
     "output_type": "display_data"
    }
   ],
   "source": [
    "plt.rc('font', size=7) #controls default text size\n",
    "fig, ax= plt.subplots(1,5)\n",
    "print(ax.shape)\n",
    "ts= np.transpose(gsdfs[2][3000:,:])\n",
    "ax[0].imshow(ts,vmin= -10,vmax=50,cmap=\"hot\")\n",
    "force_aspect(ax[0],0.4)\n",
    "ts= np.transpose(gsdfs[3][3000:,:])\n",
    "ax[1].imshow(ts,vmin= -10,vmax=50,cmap=\"hot\")\n",
    "force_aspect(ax[1],0.4)\n",
    "ax[1].set_yticklabels([])\n",
    "ts= np.transpose(gsdfs[1][3000:,:])\n",
    "ax[2].imshow(ts,vmin= -10,vmax=50,cmap=\"hot\")\n",
    "force_aspect(ax[2],0.4)\n",
    "ax[2].set_yticklabels([])\n",
    "ts= np.transpose(mgsdfs[0][3000:,:])\n",
    "ax[3].imshow(ts,vmin= -10,vmax=50,cmap=\"hot\")\n",
    "force_aspect(ax[3],0.4)\n",
    "ax[3].set_yticklabels([])\n",
    "ts= np.transpose(mgsdfs[1][3000:,:])\n",
    "ax[4].imshow(ts,vmin= -10,vmax=50,cmap=\"hot\")\n",
    "force_aspect(ax[4],0.4)\n",
    "ax[4].set_yticklabels([])\n",
    "plt.savefig(\"response_ex.png\",dpi=300)"
   ]
  },
  {
   "cell_type": "code",
   "execution_count": 10,
   "id": "about-daniel",
   "metadata": {},
   "outputs": [
    {
     "data": {
      "image/png": "[encoded data removed]",
      "text/plain": [
       "<Figure size 432x288 with 1 Axes>"
      ]
     },
     "metadata": {
      "needs_background": "light"
     },
     "output_type": "display_data"
    }
   ],
   "source": [
    "plt.figure()\n",
    "ax= plt.gca()\n",
    "ax.imshow(np.reshape(np.arange(-10,50,1),(-1,1)),cmap='hot')\n",
    "ax.invert_yaxis()\n",
    "ax.yaxis.tick_right()\n",
    "ax.set_xticks([])\n",
    "ax.set_yticks(np.arange(0,60,10))\n",
    "ax.set_yticklabels(np.arange(-10,50,10))\n",
    "force_aspect(ax,0.05)\n",
    "plt.savefig(\"colorbar.png\",dpi=300)"
   ]
  },
  {
   "cell_type": "code",
   "execution_count": null,
   "id": "moderate-brass",
   "metadata": {},
   "outputs": [],
   "source": []
  },
  {
   "cell_type": "code",
   "execution_count": null,
   "id": "coastal-adolescent",
   "metadata": {},
   "outputs": [],
   "source": []
  }
 ],
 "metadata": {
  "kernelspec": {
   "display_name": "Python 3",
   "language": "python",
   "name": "python3"
  },
  "language_info": {
   "codemirror_mode": {
    "name": "ipython",
    "version": 3
   },
   "file_extension": ".py",
   "mimetype": "text/x-python",
   "name": "python",
   "nbconvert_exporter": "python",
   "pygments_lexer": "ipython3",
   "version": "3.8.6"
  }
 },
 "nbformat": 4,
 "nbformat_minor": 5
}
